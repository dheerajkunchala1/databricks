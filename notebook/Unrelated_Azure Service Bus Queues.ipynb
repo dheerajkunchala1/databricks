{
 "cells": [
  {
   "cell_type": "code",
   "execution_count": 0,
   "metadata": {
    "application/vnd.databricks.v1+cell": {
     "cellMetadata": {
      "byteLimit": 2048000,
      "rowLimit": 10000
     },
     "inputWidgets": {},
     "nuid": "72540737-5cde-4c81-8ff3-41f94b7742b4",
     "showTitle": false,
     "title": ""
    }
   },
   "outputs": [],
   "source": [
    "pip install azure-servicebus"
   ]
  },
  {
   "cell_type": "code",
   "execution_count": 0,
   "metadata": {
    "application/vnd.databricks.v1+cell": {
     "cellMetadata": {
      "byteLimit": 2048000,
      "rowLimit": 10000
     },
     "inputWidgets": {},
     "nuid": "3fa58af5-a4fd-424b-a6da-88d862ab67c1",
     "showTitle": false,
     "title": ""
    }
   },
   "outputs": [],
   "source": [
    "from azure-servicebus import ServiceBusClient,ServiceBusMessage,ServiceBusSender"
   ]
  },
  {
   "cell_type": "markdown",
   "metadata": {
    "application/vnd.databricks.v1+cell": {
     "cellMetadata": {},
     "inputWidgets": {},
     "nuid": "82e8a488-9f4e-4322-b83c-67b50e00a63b",
     "showTitle": false,
     "title": ""
    }
   },
   "source": [
    "# Send Messages to a queue"
   ]
  },
  {
   "cell_type": "code",
   "execution_count": 0,
   "metadata": {
    "application/vnd.databricks.v1+cell": {
     "cellMetadata": {
      "byteLimit": 2048000,
      "rowLimit": 10000
     },
     "inputWidgets": {},
     "nuid": "63e86978-3ee6-407b-b37e-6f48a6015f53",
     "showTitle": false,
     "title": ""
    }
   },
   "outputs": [],
   "source": [
    "CONNECTION_STR = \"Endpoint=sb://servicebus-demo707.servicebus.windows.net/;SharedAccessKeyName=RootManageSharedAccessKey;SharedAccessKey=QmdFxzKkWo+0Mb/3+riksEJR6tlMm0dtb+ASbDDLozY=;EntityPath=servicebusdemo1q\""
   ]
  },
  {
   "cell_type": "code",
   "execution_count": 0,
   "metadata": {
    "application/vnd.databricks.v1+cell": {
     "cellMetadata": {
      "byteLimit": 2048000,
      "rowLimit": 10000
     },
     "inputWidgets": {},
     "nuid": "ec6b23f7-ffb6-4055-a310-d910aee6a29e",
     "showTitle": false,
     "title": ""
    }
   },
   "outputs": [],
   "source": [
    "QUEUE_NAME = \"servicebusdemo1q\""
   ]
  },
  {
   "cell_type": "code",
   "execution_count": 0,
   "metadata": {
    "application/vnd.databricks.v1+cell": {
     "cellMetadata": {
      "byteLimit": 2048000,
      "rowLimit": 10000
     },
     "inputWidgets": {},
     "nuid": "f89744d0-2fe9-4ad4-a7d6-ee294c678039",
     "showTitle": false,
     "title": ""
    }
   },
   "outputs": [],
   "source": [
    "def send_single_message(sender):\n",
    "    message = ServiceBusMessage(\"Single Message\")\n",
    "    sender.send_messages(message)\n",
    "    print(\"Send a single message\")"
   ]
  },
  {
   "cell_type": "code",
   "execution_count": 0,
   "metadata": {
    "application/vnd.databricks.v1+cell": {
     "cellMetadata": {
      "byteLimit": 2048000,
      "rowLimit": 10000
     },
     "inputWidgets": {},
     "nuid": "a51fcb8b-eefe-4a34-8467-6fa8f5c78c6d",
     "showTitle": false,
     "title": ""
    }
   },
   "outputs": [],
   "source": [
    "def send_a_list_of_messages(sender):\n",
    "    messages = [ServiceBusMessage(\"Message in list\" + str(i)) for i in range(5)]\n",
    "    sender.send_messages(messages)\n",
    "    print(\"Send a list of messages\")"
   ]
  },
  {
   "cell_type": "code",
   "execution_count": 0,
   "metadata": {
    "application/vnd.databricks.v1+cell": {
     "cellMetadata": {
      "byteLimit": 2048000,
      "rowLimit": 10000
     },
     "inputWidgets": {},
     "nuid": "6f746e23-2fef-4ff5-9aec-bc9f49039abe",
     "showTitle": false,
     "title": ""
    }
   },
   "outputs": [],
   "source": [
    "def send_batch_of_messages(sender):\n",
    "    batch_message = sender.create_message_batch()\n",
    "    for i in range(10):\n",
    "        try:\n",
    "            batch_message.addmessage(ServiceBusMessage(\"Messages inside a ServiceBusMessage\"))\n",
    "        except ValueError:\n",
    "            break;\n",
    "    sender.send_messages(batch_message)\n",
    "    print(\"Sent a batch of 10 messages\")"
   ]
  },
  {
   "cell_type": "code",
   "execution_count": 0,
   "metadata": {
    "application/vnd.databricks.v1+cell": {
     "cellMetadata": {
      "byteLimit": 2048000,
      "rowLimit": 10000
     },
     "inputWidgets": {},
     "nuid": "546d777c-d1f1-46e1-a71e-554339962a54",
     "showTitle": false,
     "title": ""
    }
   },
   "outputs": [],
   "source": [
    "servicebus_client = ServiceBusClient.from_connection_string(conn_str=CONNECTION_STR,logging_enable=True)\n",
    "with servicebus_client:\n",
    "    sender = servicebus_client.get_queue_sender(queue_name = QUEUE_NAME)"
   ]
  },
  {
   "cell_type": "code",
   "execution_count": 0,
   "metadata": {
    "application/vnd.databricks.v1+cell": {
     "cellMetadata": {
      "byteLimit": 2048000,
      "rowLimit": 10000
     },
     "inputWidgets": {},
     "nuid": "fc12cd3a-9a92-4e0a-abd3-e6647e6ab805",
     "showTitle": false,
     "title": ""
    }
   },
   "outputs": [],
   "source": [
    "servicebus_client = ServiceBusClient.from_connection_string(conn_str=CONNECTION_STR,logging_enable=True)"
   ]
  },
  {
   "cell_type": "code",
   "execution_count": 0,
   "metadata": {
    "application/vnd.databricks.v1+cell": {
     "cellMetadata": {
      "byteLimit": 2048000,
      "rowLimit": 10000
     },
     "inputWidgets": {},
     "nuid": "ff19772c-4b0d-40eb-b0df-53f0902e8ed0",
     "showTitle": false,
     "title": ""
    }
   },
   "outputs": [],
   "source": [
    "sender = servicebus_client.get_queue_sender(queue_name=QUEUE_NAME)"
   ]
  },
  {
   "cell_type": "code",
   "execution_count": 0,
   "metadata": {
    "application/vnd.databricks.v1+cell": {
     "cellMetadata": {
      "byteLimit": 2048000,
      "rowLimit": 10000
     },
     "inputWidgets": {},
     "nuid": "728eb599-b402-4618-881c-95da22a8f539",
     "showTitle": false,
     "title": ""
    }
   },
   "outputs": [],
   "source": [
    "print(sender)"
   ]
  },
  {
   "cell_type": "code",
   "execution_count": 0,
   "metadata": {
    "application/vnd.databricks.v1+cell": {
     "cellMetadata": {
      "byteLimit": 2048000,
      "rowLimit": 10000
     },
     "inputWidgets": {},
     "nuid": "ddf37ef2-79a2-4332-8db9-a7b7bad79ecd",
     "showTitle": false,
     "title": ""
    }
   },
   "outputs": [],
   "source": [
    "with sender:\n",
    "    send_single_message(sender)\n",
    "    send_a_list_of_messages(sender)\n",
    "print('done sending messages')"
   ]
  },
  {
   "cell_type": "markdown",
   "metadata": {
    "application/vnd.databricks.v1+cell": {
     "cellMetadata": {},
     "inputWidgets": {},
     "nuid": "0fc8516b-cba7-4239-bd1c-fc8e184c7642",
     "showTitle": false,
     "title": ""
    }
   },
   "source": [
    "# Recieve Messages from a queue"
   ]
  },
  {
   "cell_type": "code",
   "execution_count": 0,
   "metadata": {
    "application/vnd.databricks.v1+cell": {
     "cellMetadata": {
      "byteLimit": 2048000,
      "rowLimit": 10000
     },
     "inputWidgets": {},
     "nuid": "e10823a5-0f01-4447-9262-7733c28bc9df",
     "showTitle": false,
     "title": ""
    }
   },
   "outputs": [],
   "source": [
    "sender = servicebus_client.get_queue_sender(queue_name=QUEUE_NAME,max_wait_time = 5)"
   ]
  },
  {
   "cell_type": "code",
   "execution_count": 0,
   "metadata": {
    "application/vnd.databricks.v1+cell": {
     "cellMetadata": {
      "byteLimit": 2048000,
      "rowLimit": 10000
     },
     "inputWidgets": {},
     "nuid": "b851fcd5-609f-4da9-9849-b6bd933752b9",
     "showTitle": false,
     "title": ""
    }
   },
   "outputs": [],
   "source": [
    "receiver = servicebus_client.get_queue_receiver(queue_name=QUEUE_NAME)\n",
    "with receiver:\n",
    "    for msg in receiver:\n",
    "        print(\"Received\" + str(msg))\n",
    "        receiver.complete_message(msg)"
   ]
  },
  {
   "cell_type": "markdown",
   "metadata": {
    "application/vnd.databricks.v1+cell": {
     "cellMetadata": {},
     "inputWidgets": {},
     "nuid": "8c29a61d-0885-442f-9be5-92e300319023",
     "showTitle": false,
     "title": ""
    }
   },
   "source": [
    "# Send messages in a topic"
   ]
  },
  {
   "cell_type": "code",
   "execution_count": 0,
   "metadata": {
    "application/vnd.databricks.v1+cell": {
     "cellMetadata": {
      "byteLimit": 2048000,
      "rowLimit": 10000
     },
     "inputWidgets": {},
     "nuid": "b09c9369-20bd-48b6-a6cc-cfd70207ebdf",
     "showTitle": false,
     "title": ""
    }
   },
   "outputs": [],
   "source": [
    "from azure.servicebus import ServiceBusClient,ServiceBusMessage,ServiceBusSender,ServiceBusReceiver,ServiceBusMessageBatch"
   ]
  },
  {
   "cell_type": "code",
   "execution_count": 0,
   "metadata": {
    "application/vnd.databricks.v1+cell": {
     "cellMetadata": {
      "byteLimit": 2048000,
      "rowLimit": 10000
     },
     "inputWidgets": {},
     "nuid": "419ed514-fded-4ca5-b501-7a40e1539f01",
     "showTitle": false,
     "title": ""
    }
   },
   "outputs": [],
   "source": [
    "connection_string = \"Endpoint=sb://servicebus-demo707.servicebus.windows.net/;SharedAccessKeyName=policy11;SharedAccessKey=p781qHG+0n5FZPuBb+0AH2q9Z07VM2811+ASbNZK438=;EntityPath=servicebusdemotopic11\""
   ]
  },
  {
   "cell_type": "code",
   "execution_count": 0,
   "metadata": {
    "application/vnd.databricks.v1+cell": {
     "cellMetadata": {
      "byteLimit": 2048000,
      "rowLimit": 10000
     },
     "inputWidgets": {},
     "nuid": "9e51fbb3-e49a-4998-93b7-88793e45a9e4",
     "showTitle": false,
     "title": ""
    }
   },
   "outputs": [],
   "source": [
    "topic_name  = 'servicebusdemotopic11'"
   ]
  },
  {
   "cell_type": "code",
   "execution_count": 0,
   "metadata": {
    "application/vnd.databricks.v1+cell": {
     "cellMetadata": {
      "byteLimit": 2048000,
      "rowLimit": 10000
     },
     "inputWidgets": {},
     "nuid": "4c492447-92f8-4ded-8de1-171411d462f2",
     "showTitle": false,
     "title": ""
    }
   },
   "outputs": [],
   "source": [
    "sub_name = 'servicebussub'"
   ]
  },
  {
   "cell_type": "code",
   "execution_count": 0,
   "metadata": {
    "application/vnd.databricks.v1+cell": {
     "cellMetadata": {
      "byteLimit": 2048000,
      "rowLimit": 10000
     },
     "inputWidgets": {},
     "nuid": "20e5cd6d-e20e-494a-8169-3285a6f8bb38",
     "showTitle": false,
     "title": ""
    }
   },
   "outputs": [],
   "source": [
    "def send_single_message(sender):\n",
    "    message = ServiceBusMessage(\"Single Message\")\n",
    "    sender.send_messages(message)\n",
    "    print(\"Send a single message\")"
   ]
  },
  {
   "cell_type": "code",
   "execution_count": 0,
   "metadata": {
    "application/vnd.databricks.v1+cell": {
     "cellMetadata": {
      "byteLimit": 2048000,
      "rowLimit": 10000
     },
     "inputWidgets": {},
     "nuid": "e47fab15-24cd-40c7-ab50-d95f78134797",
     "showTitle": false,
     "title": ""
    }
   },
   "outputs": [],
   "source": [
    "def send_a_list_of_messages(sender):\n",
    "    messages = [ServiceBusMessage(\"Message in list\" + str(i)) for i in range(5)]\n",
    "    sender.send_messages(messages)\n",
    "    print(\"Send a list of messages\")"
   ]
  },
  {
   "cell_type": "code",
   "execution_count": 0,
   "metadata": {
    "application/vnd.databricks.v1+cell": {
     "cellMetadata": {
      "byteLimit": 2048000,
      "rowLimit": 10000
     },
     "inputWidgets": {},
     "nuid": "71feacfb-339e-4620-b2df-3bd99e338c60",
     "showTitle": false,
     "title": ""
    }
   },
   "outputs": [],
   "source": [
    "def send_batch_of_messages(sender):\n",
    "    batch_message = sender.create_message_batch()\n",
    "    for i in range(10):\n",
    "        try:\n",
    "            batch_message(ServiceBusMessage(\"Messages inside a ServiceBusMessage\"))\n",
    "        except ValueError:\n",
    "                break;\n",
    "    sender.send_messages(batch_message)\n",
    "    print(\"Sent a batch of 10 messages\")"
   ]
  },
  {
   "cell_type": "code",
   "execution_count": 0,
   "metadata": {
    "application/vnd.databricks.v1+cell": {
     "cellMetadata": {
      "byteLimit": 2048000,
      "rowLimit": 10000
     },
     "inputWidgets": {},
     "nuid": "0eccbf3a-b27b-4c07-b947-02e9ae61f512",
     "showTitle": false,
     "title": ""
    }
   },
   "outputs": [],
   "source": [
    "servicebus_client = ServiceBusClient.from_connection_string(conn_str=connection_string,logging_enable=True)"
   ]
  },
  {
   "cell_type": "code",
   "execution_count": 0,
   "metadata": {
    "application/vnd.databricks.v1+cell": {
     "cellMetadata": {
      "byteLimit": 2048000,
      "rowLimit": 10000
     },
     "inputWidgets": {},
     "nuid": "b9c422c4-5e75-4030-8e6d-721890a658a4",
     "showTitle": false,
     "title": ""
    }
   },
   "outputs": [],
   "source": [
    "sender = servicebus_client.get_topic_sender(topic_name=topic_name)"
   ]
  },
  {
   "cell_type": "code",
   "execution_count": 0,
   "metadata": {
    "application/vnd.databricks.v1+cell": {
     "cellMetadata": {
      "byteLimit": 2048000,
      "rowLimit": 10000
     },
     "inputWidgets": {},
     "nuid": "8d13c8cb-f2d2-4a48-873b-d7768e080308",
     "showTitle": false,
     "title": ""
    }
   },
   "outputs": [],
   "source": [
    "with sender:\n",
    "    send_single_message(sender)\n",
    "    send_a_list_of_messages(sender)\n",
    "    send_batch_of_messages(sender)\n",
    "print('done sending messages')"
   ]
  },
  {
   "cell_type": "markdown",
   "metadata": {
    "application/vnd.databricks.v1+cell": {
     "cellMetadata": {},
     "inputWidgets": {},
     "nuid": "d2ec7b2b-616b-4a54-b7bf-693bdd5cdbab",
     "showTitle": false,
     "title": ""
    }
   },
   "source": [
    "#Receive message from a subscription"
   ]
  },
  {
   "cell_type": "code",
   "execution_count": 0,
   "metadata": {
    "application/vnd.databricks.v1+cell": {
     "cellMetadata": {
      "byteLimit": 2048000,
      "rowLimit": 10000
     },
     "inputWidgets": {},
     "nuid": "e2eea04a-c8ee-4301-bdb6-5c319c4fc2ec",
     "showTitle": false,
     "title": ""
    }
   },
   "outputs": [],
   "source": [
    "servicebus_client = ServiceBusClient.from_connection_string(conn_str=connection_string,logging_enable=True)"
   ]
  },
  {
   "cell_type": "code",
   "execution_count": 0,
   "metadata": {
    "application/vnd.databricks.v1+cell": {
     "cellMetadata": {
      "byteLimit": 2048000,
      "rowLimit": 10000
     },
     "inputWidgets": {},
     "nuid": "74fbc13d-dacc-4820-ab54-ff7524cddce0",
     "showTitle": false,
     "title": ""
    }
   },
   "outputs": [],
   "source": [
    "receiver = servicebus_client.get_subscription_receiver(topic_name=topic_name,subscription_name='servicebussub',max_wait_time=5)"
   ]
  },
  {
   "cell_type": "code",
   "execution_count": 0,
   "metadata": {
    "application/vnd.databricks.v1+cell": {
     "cellMetadata": {
      "byteLimit": 2048000,
      "rowLimit": 10000
     },
     "inputWidgets": {},
     "nuid": "10912ea4-0579-4667-b202-97d1d176cf97",
     "showTitle": false,
     "title": ""
    }
   },
   "outputs": [],
   "source": [
    "with receiver:\n",
    "    for msg in receiver:\n",
    "        print(\"Received\" + str(msg))\n",
    "        receiver.complete_message(msg)"
   ]
  },
  {
   "cell_type": "code",
   "execution_count": 0,
   "metadata": {
    "application/vnd.databricks.v1+cell": {
     "cellMetadata": {},
     "inputWidgets": {},
     "nuid": "2711a759-c081-468c-98ee-3aa0460a31c8",
     "showTitle": false,
     "title": ""
    }
   },
   "outputs": [],
   "source": []
  }
 ],
 "metadata": {
  "application/vnd.databricks.v1+notebook": {
   "dashboards": [],
   "language": "python",
   "notebookMetadata": {
    "pythonIndentUnit": 4
   },
   "notebookName": "Unrelated_Azure Service Bus Queues",
   "widgets": {}
  }
 },
 "nbformat": 4,
 "nbformat_minor": 0
}
